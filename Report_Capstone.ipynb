{
 "cells": [
  {
   "cell_type": "markdown",
   "metadata": {},
   "source": [
    "## COVID-19 India : Understand Your Neighborhood "
   ]
  },
  {
   "cell_type": "markdown",
   "metadata": {},
   "source": [
    "### *Introduction*\n",
    "\n",
    "#### About COVID-19 :- \n",
    "\n",
    "Coronavirus disease (COVID-19) is an infectious disease caused by a newly discovered coronavirus.\n",
    "Most people infected with the COVID-19 virus will experience mild to moderate respiratory illness and recover without requiring special treatment.  Older people, and those with underlying medical problems like cardiovascular disease, diabetes, chronic respiratory disease, and cancer are more likely to develop serious illness.\n",
    "\n",
    "The best way to prevent and slow down transmission is be well informed about the COVID-19 virus, the disease it causes and how it spreads. Protect yourself and others from infection by washing your hands or using an alcohol based rub frequently and not touching your face. \n",
    "\n",
    "The COVID-19 virus spreads primarily through droplets of saliva or discharge from the nose when an infected person coughs or sneezes, so it’s important that you also practice respiratory etiquette (for example, by coughing into a flexed elbow).\n",
    "At this time, there are no specific vaccines or treatments for COVID-19. However, there are many ongoing clinical trials evaluating potential treatments. WHO will continue to provide updated information as soon as clinical findings become available."
   ]
  },
  {
   "cell_type": "markdown",
   "metadata": {},
   "source": [
    "#### Project Overview:-\n",
    "Project gives an overview of COVID-19 cases in entire India till date. The number of confirmed cases, number of cured people and number of deaths due to COVID-19. Also, the information backtracks to March-2020, since the time there was sudden rise in cases. Maps are shown to highlight all the cases across India and sub level to states and to districts too.\n",
    "\n",
    "Project will also take a look to census data of India which was taken in year 2011 and will compare the various factors that might be contributing to the rise in cases in particular state or a district.\n",
    "\n",
    "Each state, further divided to district level, will be clustered using \"K-Means Clustering\", so that similar states/districts are clustered and any action or decision should impact on the cluster as a whole.\n",
    "\n",
    "People/users of the projects will be able to visiualize the impact of COVID-19 on India/each state/ever distict within. And they will also be able to get the most common visited places within a state/district using \"Foursquare Location Data\". So user can check and decide the place they are visiting and can prepare/act accordingly."
   ]
  },
  {
   "cell_type": "markdown",
   "metadata": {},
   "source": [
    "#### User and stakeholders:-"
   ]
  },
  {
   "cell_type": "markdown",
   "metadata": {},
   "source": [
    "Users can be anyone who would like to knoow more about COVID-19. It's spread in India, or a particular state or disctrict.\n",
    "People who are visiting a certain place and wants to know the places where can get high volume of crowd due to it's popularity and number of people visiting.\n",
    "\n",
    "- Common people of India.  \n",
    "- Government of India.  \n",
    "- Visiters to any state/district of India.  "
   ]
  },
  {
   "cell_type": "markdown",
   "metadata": {},
   "source": [
    "### *Data being used in the project*\n",
    "- This project will require daily data of COVID-19 in India, sub-level to district. For this we will use website scarping.  (Source- https://www.grainmart.in/news/covid-19-coronavirus-india-state-and-district-wise-tally/)  \n",
    "- Further, we will use census data 2011 of India to comapre the factors they are/or contributing to rise in cases.  (Source- https://censusindia.gov.in/2011-Common/CensusData2011.html)  \n",
    "- We will also require COVID-19 data since march, for this we will download and use a dataset available online.  (Source- https://prsindia.org/covid-19/cases)  \n",
    "- Further, to provide the most common places visited in an area and provide location information.  (Source- Foursquare Location Data)  "
   ]
  },
  {
   "cell_type": "code",
   "execution_count": null,
   "metadata": {},
   "outputs": [],
   "source": []
  }
 ],
 "metadata": {
  "kernelspec": {
   "display_name": "Python",
   "language": "python",
   "name": "conda-env-python-py"
  },
  "language_info": {
   "codemirror_mode": {
    "name": "ipython",
    "version": 3
   },
   "file_extension": ".py",
   "mimetype": "text/x-python",
   "name": "python",
   "nbconvert_exporter": "python",
   "pygments_lexer": "ipython3",
   "version": "3.6.10"
  }
 },
 "nbformat": 4,
 "nbformat_minor": 4
}
